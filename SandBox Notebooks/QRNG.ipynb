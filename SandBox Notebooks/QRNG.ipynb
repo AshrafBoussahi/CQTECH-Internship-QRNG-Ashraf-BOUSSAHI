{
 "cells": [
  {
   "cell_type": "markdown",
   "id": "b773ed9f-3640-46ab-9fbb-d3a8e73bce72",
   "metadata": {},
   "source": [
    "# Quantum Number Random Number Generation (QRNG)\n",
    "_by Ashraf Boussahi_ "
   ]
  },
  {
   "cell_type": "markdown",
   "id": "8d70bd1c-da05-400b-9443-b395dfbdd9b8",
   "metadata": {},
   "source": [
    "## What's Randomness, and what is a random number?\n",
    "\n",
    "Intentionally, randomness can be described as a set of events that cannot be fully predicted or guessed with certainty and is often referred to as luck. Indeed there is an entire branch of science dedicated to studying, analyzing, and trying to predict these uncertain events, and measuring their likelihood—this is called probability: the science of uncertainty. From a scientific standpoint, luck can be somewhat measured, and there are many techniques to enhance it. So, next time instead of blaming your lack of luck, consider taking a course on probability—I recommend the [MITx course on edX](https://www.edx.org/learn/probability/massachusetts-institute-of-technology-probability-the-science-of-uncertainty-and-data)!\n",
    "\n",
    "A random number, as the term suggests, is a number generated randomly through what is known as a \"Random Number Generator\" or RNG, making it essentially impossible to predict with certainty. This output can be applied in various important fields due to its unique property of unpredictability.\n",
    "\n",
    "## What's an RNG and how does it work?\n",
    "An RNG, or Random Number Generator as a general concept is a mechanism that can generate numbers with the essential property of unpredictability, using various techniques, principles, and algorithms. An RNG can take many forms, such as a dice, a game wheel, a Galton Board, a classical computer, or even a quantum computer.\n",
    "\n",
    "But how can we determine if a number is truly random?\n",
    "\n",
    "To do so, we need to examine its generator and analyze both the quality of the generator and the process it uses to produce the number. There are plenty of algorithms and advanced techniques to assess the quality of a generator and determine the randomness of its outputs that we will cover later on such as the [Statistical tests](https://en.wikipedia.org/wiki/Randomness_test) that check for patterns or biases in the output, and the [NIST (National Institute of Standards and Technology)](https://nvlpubs.nist.gov/nistpubs/legacy/sp/nistspecialpublication800-22r1a.pdf) Test Suite\n",
    "\n",
    "We can identify some features or characteristics that should be present to classify a number as random:\n",
    "\n",
    "- **Unpredictable:** In a sequence of random numbers, the next value cannot be determined based on previous values.\n",
    "- **Unreproducible:** For large-scale random number generation (especially when generating large numbers), it is crucial that this value cannot easily be reproduced at that level.\n",
    "- **Uniformly Distributed:** After a long series of random generations, all possible values should appear with equal likelihood, showing no bias toward any specific value.\n",
    "\n",
    "\n",
    "## Does it really matter if a number is truly randomly generated?\n",
    "\n",
    "\n",
    "Actually, Yes, it’s crucial and the reason lies in the main applications of randomly generated numbers, which are used in critical fields and in almost every area of study that requires experimentation or confidentiality, and any small bias could lead to disaster results and catastrophic results because sometimes even if a number appears random on a small scale,  we can easily detect patterns in large-scale data, which can compromise the randomness and the results they are are based on it.\n",
    "\n",
    "\n",
    "## What are the main uses of Random Numbers?\n",
    "\n",
    "- **Security & Cryptography:**\n",
    "Random generation of numbers can be considered the core of all encryption methods responsible for securing sensitive information and keeping it away from unwanted persons who may intercept the process of sharing it. This is actually achieved through cryptography.\n",
    "\n",
    "Almost all cryptographic algorithms that encode our confidential materials online (bank accounts, passwords, data sharing, and network tokens) rely on randomly generated numbers. These values are created using classical computers and advanced calculations, which are grounded in strict scientific principles.\n",
    "\n",
    "So, are these numbers really random?\n",
    "To answer this question, we need to understand where they come from. As mentioned above, most of them rely on complex algorithms and formulas. But aren’t these methods deterministic? How can they generate something random every time?\n",
    "\n",
    "In reality, the generated numbers aren’t truly random, but their statistical properties make them appear random. Why is that? Let’s take a hands-on example:\n",
    "\n",
    "One of the algorithms commonly used is the LCG (Linear Congruential Generator), which employs this simple formula:\n",
    "\n",
    "$$X_{n+1} = (a X_n + c) \\mod m$$\n",
    "\n",
    "with \n",
    "$X_0$ : the starting value or the **seed**\n",
    "\n",
    "$a$ : multiplier\n",
    "\n",
    "$c$ : increment\n",
    "\n",
    "$m$ : the modulus\n",
    "\n",
    "_*Note*: The parameters $a$, $c$, and $m$ are predefined by each implementation of the LCG algorithm and may be subject to certain criteria. To learn more about these parameters and how they are used, please refer to [this article on Wikipedia](https://en.wikipedia.org/wiki/Linear_congruential_generator)._\n",
    "\n",
    "_For this example, we will use the same parameter values as in the [Numerical Recipes book](https://numerical.recipes/book.html)._\n",
    "\n",
    "Now, let's write a simple code to generate a random sequence with $N$ numbers."
   ]
  },
  {
   "cell_type": "code",
   "execution_count": 27,
   "id": "741d9925-e616-43c8-b5b0-8af3ff9bf601",
   "metadata": {},
   "outputs": [
    {
     "data": {
      "text/plain": [
       "[8, 7, 4, 6, 3, 3, 8, 6, 3, 7]"
      ]
     },
     "execution_count": 27,
     "metadata": {},
     "output_type": "execute_result"
    }
   ],
   "source": [
    "def LCG(seed, N, min, max): # min and max are used to scale the random number to the desired range\n",
    "    Seq = []\n",
    "    a = 1664525 #The predefined parameters\n",
    "    c = 1013904223\n",
    "    m = 2**32\n",
    "    for i in range(N):\n",
    "        seed = (a * seed + c) % m  # Update the seed using the LCG formula\n",
    "        random_num = min + (seed % (max - min))  # Scale the output to the desired range (+1 to make the max value included)\n",
    "        Seq.append(random_num)\n",
    "\n",
    "    return Seq\n",
    "\n",
    "# Generate the sequence, setting the seed to be 2004\n",
    "LCG(5, 10, 0, 9)\n"
   ]
  },
  {
   "cell_type": "markdown",
   "id": "3d2046c5-e790-4b13-9ede-3a78979e65d4",
   "metadata": {},
   "source": [
    "To see the distribution of these random numbers, we need to generate a larger sequence and plot a histogram:"
   ]
  },
  {
   "cell_type": "code",
   "execution_count": 28,
   "id": "7f7bb656-cce5-40ba-b38a-cd5263ce04df",
   "metadata": {},
   "outputs": [],
   "source": [
    "# Generate a large sequence of random numbers\n",
    "sequence = LCG(5, 10000, 0, 10)"
   ]
  },
  {
   "attachments": {
    "3e5ceb1a-1d6b-4419-aaae-44ed61fc4b8d.png": {
     "image/png": "[encoded data removed]"
    }
   },
   "cell_type": "markdown",
   "id": "64942878-bff5-4145-9a1d-94b7c9ecd8bf",
   "metadata": {},
   "source": [
    "![download.png](attachment:3e5ceb1a-1d6b-4419-aaae-44ed61fc4b8d.png)"
   ]
  },
  {
   "cell_type": "markdown",
   "id": "bf5f9fe7-685b-4354-b933-feec6702aa75",
   "metadata": {},
   "source": [
    "As we can see, the generated sequence is uniform and does not show a strong bias toward any of the possible values, which makes the sequence appear statistically random.\n",
    "\n",
    "But why do we say that these numbers aren’t truly random?\n",
    "\n",
    "### The Seed Problem:\n",
    "The LCG algorithm we used above generates the sequence of random numbers through a deterministic process, starting from an initial value called the seed $X_0$ so, what happens if we generate another random sequence starting from the same seed? Will the sequences be different? Let’s see:\n",
    "\n",
    "We will fix the seed to 1954, set the sequence length to 20, and choose the minimum value to be 0 and the maximum value to be 100, so if the two sequences were truly randomly generated, they would be different each time.\n",
    "\n",
    "\n",
    "*What is the probability of them being the same if they are truly randomly generated?*\n",
    "\n",
    "- We assume that we have two randomly generated sequences, both generated independently.\n",
    "- Each value in each sequence has 100 possible values, so the probability for each value to appear is $\\frac{1}{100}$\n",
    "- The sequence length is 20 for each.\n",
    "\n",
    "So the probability of having an exact match between two truly randomly generated sequences is:\n",
    "\n",
    "$$P_{match} = \\left( \\frac{1}{100} \\right)^{20} = 10^{-40}$$\n",
    "\n",
    "which is literally:\n",
    "0.0000000000000000000000000000000000000001\n",
    "\n",
    "This is effectively 0, meaning we would need an enormous amount of luck to get two sequences with exactly the same 20 values.\n",
    "\n",
    "Let’s try our chance, maybe today is our lucky day!"
   ]
  },
  {
   "cell_type": "code",
   "execution_count": 30,
   "id": "555f9093-3255-4b4c-8e81-5d781a2ad1c3",
   "metadata": {},
   "outputs": [
    {
     "data": {
      "text/plain": [
       "[73, 40, 47, 46, 29, 0, 75, 54, 13, 36, 19, 18, 69, 64, 83, 58, 61, 88, 35, 62]"
      ]
     },
     "execution_count": 30,
     "metadata": {},
     "output_type": "execute_result"
    }
   ],
   "source": [
    "#Let's generate the first sequence with 1954 as  our fixed seed in both sequences:\n",
    "\n",
    "LCG(1954, 20, 0, 100)"
   ]
  },
  {
   "cell_type": "code",
   "execution_count": 31,
   "id": "2c608b14-9f95-4fe4-8fc8-4e5946a0508e",
   "metadata": {},
   "outputs": [
    {
     "data": {
      "text/plain": [
       "[73, 40, 47, 46, 29, 0, 75, 54, 13, 36, 19, 18, 69, 64, 83, 58, 61, 88, 35, 62]"
      ]
     },
     "execution_count": 31,
     "metadata": {},
     "output_type": "execute_result"
    }
   ],
   "source": [
    "# Now the second one with the same parameters:\n",
    "\n",
    "LCG(1954, 20, 0, 100)"
   ]
  },
  {
   "cell_type": "markdown",
   "id": "852560d3-6893-48cf-a8d6-5ce8e501fbca",
   "metadata": {},
   "source": [
    "Aren't they the same!!!\n",
    "So, either today we have spent all the luck of our lives, or there's something else going on.\n",
    "\n",
    "What if we changed the seed value?"
   ]
  },
  {
   "cell_type": "code",
   "execution_count": 33,
   "id": "3b0ec71c-87be-4773-9735-d929057be406",
   "metadata": {},
   "outputs": [
    {
     "data": {
      "text/plain": [
       "[73, 84, 67, 98, 97, 92, 47, 58, 17, 48, 3, 26, 53, 84, 55, 30, 33, 16, 79, 90]"
      ]
     },
     "execution_count": 33,
     "metadata": {},
     "output_type": "execute_result"
    }
   ],
   "source": [
    "#The new seed is 1962\n",
    "LCG(1962, 20, 0, 100)"
   ]
  },
  {
   "cell_type": "markdown",
   "id": "3f6618a8-e0fc-422c-9ce4-aff5a85c76b2",
   "metadata": {},
   "source": [
    "Now, the results are extremely different.\n",
    "\n",
    "So, we can conclude that the presence of the seed in these algorithms makes the values generated reproducible, which means the values we have are not truly random and could pose a risk.\n",
    "\n",
    "### The Risks of Seed-Based Encryption:\n",
    "\n",
    "To understand how dangerous it is to have numbers that are not truly random and can be reproduced if we know the algorithm used, let us have a look at an amazing challenge called \"Enigma\" in the AlphaCTF 2024 edition (an annual cybersecurity competition (Capture The Flag) organized by the AlphaBit club at ESI-SBA University) You can find the challenge and its solution [here](https://github.com/Spidey-y/AlphaCTF2k24/tree/main/crypto/enigma)\n",
    "\n",
    "Basically, the challenge provides you with a seed-based algorithm to encode a secret message (the Flag). When you try to request their server, you receive an encrypted text that seems meaningless. Knowing that the seed used for the encryption is the timestamp of the encryption, you can reverse the algorithm and decrypt the secret message.\n",
    "\n",
    "Here's a simplified version of the challenge:"
   ]
  },
  {
   "cell_type": "code",
   "execution_count": 43,
   "id": "f1dca428-1d66-4fe0-acc0-7a9601887c8e",
   "metadata": {},
   "outputs": [
    {
     "name": "stdout",
     "output_type": "stream",
     "text": [
      "The time stamp of the encryption: 1731187146 \n",
      "\n",
      "This is the random sequence used for encryption [161, 140, 123, 158, 101, 128, 223, 178, 105, 180, 131, 6, 173, 40, 103, 154, 49, 220, 139, 110, 245, 208, 239, 130, 249, 4, 147, 214, 61, 120, 119, 106, 193, 44, 155, 62, 133, 32, 255, 82, 137, 84, 163, 166, 205, 200, 135, 58, 81, 124, 171, 14, 21, 112, 15, 34, 25, 164, 179, 118, 93, 24, 151, 10] \n",
      "\n",
      "The Encrypted message is: õÄ2ÍEÉ(ÕCÿqGÉtÙ+¡ð¦Ì¿KÁ|,>%\u0000»nÉe¾\u0001ÌtçéïÓ\u001a\u00024ê\\PJ/\u0013 [l!¡8\n"
     ]
    }
   ],
   "source": [
    "import time\n",
    "\n",
    "def encrypt(message, seed):\n",
    "    \n",
    "    encrypted_message = \"\"\n",
    "    \n",
    "    random_numbers = LCG(seed, len(message), 0, 256) #Generate a random sequence to use it for the encryption\n",
    "    print(\"This is the random sequence used for encryption\" , random_numbers, \"\\n\")\n",
    "    \n",
    "    for i, char in enumerate(message):\n",
    "        encrypted_message += chr(ord(char) ^ random_numbers[i])  # XOR each character with the random number\n",
    "        \n",
    "    return encrypted_message\n",
    "\n",
    "\n",
    "time_stamp_of_the_encryption = int(time.time())\n",
    "\n",
    "print(\"The time stamp of the encryption:\" , time_stamp_of_the_encryption, \"\\n\")\n",
    "\n",
    "the_secret_msg = \"THIS IS A VERY SECRET INFORMATION, PLEASE DON'T SHARE: 1954-1962\"\n",
    "\n",
    "encrypted_msg = encrypt(the_secret_msg, time_stamp_of_the_encryption)\n",
    "\n",
    "print(\"The Encrypted message is:\", encrypted_msg)"
   ]
  },
  {
   "cell_type": "code",
   "execution_count": 44,
   "id": "68ac0ba0-4b32-47ed-a8a2-33c2e05dde43",
   "metadata": {},
   "outputs": [
    {
     "name": "stdout",
     "output_type": "stream",
     "text": [
      "This is the random sequence used for decryption  [161, 140, 123, 158, 101, 128, 223, 178, 105, 180, 131, 6, 173, 40, 103, 154, 49, 220, 139, 110, 245, 208, 239, 130, 249, 4, 147, 214, 61, 120, 119, 106, 193, 44, 155, 62, 133, 32, 255, 82, 137, 84, 163, 166, 205, 200, 135, 58, 81, 124, 171, 14, 21, 112, 15, 34, 25, 164, 179, 118, 93, 24, 151, 10] \n",
      "\n",
      "The Decrypted message is: THIS IS A VERY SECRET INFORMATION, PLEASE DON'T SHARE: 1954-1962\n"
     ]
    }
   ],
   "source": [
    "#Now let's reverse the encryption algorithm\n",
    "\n",
    "def decrypt(encrypted_message, seed):\n",
    "    \n",
    "    decrypted_message = \"\"\n",
    "    \n",
    "    random_numbers = LCG(seed, len(encrypted_message), 0, 256)  # Generate the same sequence if the seed is the same\n",
    "    print(\"This is the random sequence used for decryption \" , random_numbers, \"\\n\")\n",
    "    \n",
    "    for i, char in enumerate(encrypted_message):\n",
    "        decrypted_message += chr(ord(char) ^ random_numbers[i])  # XOR with the same numbers to decrypt (XOR is the inverse of itself)\n",
    "        \n",
    "    return decrypted_message\n",
    "\n",
    "\n",
    "decrypted_msg = decrypt(encrypted_msg, time_stamp_of_the_encryption)\n",
    "\n",
    "\n",
    "print(\"The Decrypted message is:\", decrypted_msg)"
   ]
  },
  {
   "cell_type": "markdown",
   "id": "6430a6b9-26aa-430d-b328-8e1e95580985",
   "metadata": {},
   "source": [
    "Luckily, encryption algorithms are much more complex, such as [RSA](https://en.wikipedia.org/wiki/RSA_(cryptosystem)), and the choice of the seed is also more complicated. In addition to the confidentiality of the algorithms used, the keys, and the security of data transformation and data centers, there are many layers of security involved.\n",
    "\n",
    "However, sometimes information like what we've mentioned above can be leaked, and hackers may find themselves only facing the encryption algorithm. In such a scenario, encoding confidential materials requires strong foundational principles, and since these algorithms rely on randomness, the random number generation used must be truly random.\n",
    "\n",
    "so how can we achieve true randomness?\n",
    "one of the answers can be: **The Quantum Computers**\n",
    "\n",
    "## Quantum Random Numbers Generators:\n",
    "\n",
    "Quantum computers are revolutionary devices that use the principles of quantum physics to perform calculations through various implementations.\n",
    "\n",
    "The generation of quantum values goes through the following steps:\n",
    "\n",
    "- The Entropy Source: This uses a quantum principle to generate truly random data.\n",
    "- Post-Processing: The random data generated from a quantum system may not be uniform, depending on the characteristics of the quantum system chosen as an entropy source. To ensure that the generated random numbers are uniformly distributed we use a post-processor that applies classical algorithms to the quantum data to achieve the statistical feature of uniformity."
   ]
  }
 ],
 "metadata": {
  "kernelspec": {
   "display_name": "Python 3 (ipykernel)",
   "language": "python",
   "name": "python3"
  },
  "language_info": {
   "codemirror_mode": {
    "name": "ipython",
    "version": 3
   },
   "file_extension": ".py",
   "mimetype": "text/x-python",
   "name": "python",
   "nbconvert_exporter": "python",
   "pygments_lexer": "ipython3",
   "version": "3.11.7"
  }
 },
 "nbformat": 4,
 "nbformat_minor": 5
}
