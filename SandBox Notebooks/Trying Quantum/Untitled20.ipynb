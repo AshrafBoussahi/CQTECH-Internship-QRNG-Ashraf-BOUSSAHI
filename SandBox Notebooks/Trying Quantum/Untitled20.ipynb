{
 "cells": [
  {
   "cell_type": "code",
   "execution_count": 1,
   "id": "1fbed27f-54b4-4996-b64a-c62c8f732d39",
   "metadata": {},
   "outputs": [],
   "source": [
    "def generate_output_states(total_photons, dim):\n",
    "    output_states = []\n",
    "    for i in decompose(total_photons):\n",
    "        diff = [0] * (dim - len(i))\n",
    "        i.extend(diff)\n",
    "        l = list(permutations(i))\n",
    "        l.sort()\n",
    "        cleaned = list(l for l,_ in groupby(l))\n",
    "        for c in cleaned:\n",
    "            s = [str(i) for i in c]\n",
    "            output_states.append(\"\".join(s))\n",
    "    return output_states"
   ]
  },
  {
   "cell_type": "code",
   "execution_count": 7,
   "id": "3e326386-59f3-4827-814f-e363f66bb052",
   "metadata": {},
   "outputs": [
    {
     "data": {
      "text/plain": [
       "15"
      ]
     },
     "execution_count": 7,
     "metadata": {},
     "output_type": "execute_result"
    }
   ],
   "source": [
    "len(generate_output_states(2,5))"
   ]
  },
  {
   "cell_type": "code",
   "execution_count": 3,
   "id": "45ab2f8f-d4a0-4308-a33e-001d01756bc3",
   "metadata": {},
   "outputs": [],
   "source": [
    "def decompose(n):\n",
    "    if n == 1:\n",
    "        return [[1]]\n",
    "    elif n == 2:\n",
    "        return [[1, 1], [2]]\n",
    "    elif n == 3:\n",
    "        return [[3], [2, 1], [1, 1, 1]]\n",
    "    elif n == 4:\n",
    "        return [[4], [3, 1], [2, 2], [2, 1, 1], [1, 1, 1, 1]]\n",
    "    elif n == 5:\n",
    "        return [[5], [4, 1], [3, 1, 1], [3, 2], [2, 1, 1, 1], [2, 2, 1], [1, 1, 1, 1, 1]]\n",
    "    else:\n",
    "        raise NotImplemented(\"Works only for n < 6 :)!\")"
   ]
  },
  {
   "cell_type": "code",
   "execution_count": 5,
   "id": "6272d9f1-3201-4e21-89df-12fcdba17aac",
   "metadata": {},
   "outputs": [],
   "source": [
    "from itertools import groupby, permutations\n",
    "import numpy as np"
   ]
  },
  {
   "cell_type": "code",
   "execution_count": null,
   "id": "46d84ce9-fcad-4baf-8c45-0e4738b236ed",
   "metadata": {},
   "outputs": [],
   "source": []
  }
 ],
 "metadata": {
  "kernelspec": {
   "display_name": "Python 3 (ipykernel)",
   "language": "python",
   "name": "python3"
  },
  "language_info": {
   "codemirror_mode": {
    "name": "ipython",
    "version": 3
   },
   "file_extension": ".py",
   "mimetype": "text/x-python",
   "name": "python",
   "nbconvert_exporter": "python",
   "pygments_lexer": "ipython3",
   "version": "3.11.7"
  }
 },
 "nbformat": 4,
 "nbformat_minor": 5
}
