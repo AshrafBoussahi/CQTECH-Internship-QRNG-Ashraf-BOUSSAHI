{
 "cells": [
  {
   "cell_type": "code",
   "execution_count": 1,
   "id": "2b2f55b5-f20c-45c5-82f8-f49087844c3a",
   "metadata": {},
   "outputs": [
    {
     "name": "stdout",
     "output_type": "stream",
     "text": [
      "[1 0 0 0 1 0]\n"
     ]
    }
   ],
   "source": [
    "import strawberryfields as sf\n",
    "from strawberryfields import ops\n",
    "import numpy as np\n",
    "\n",
    "\n",
    "import numpy as np\n",
    "\n",
    "\n",
    "def generate_haar_unitary(dim):\n",
    "    \"\"\"Generate a (dim, dim) Haar-random matrix using the QR decomposition.\n",
    "    Source: https://pennylane.ai/qml/demos/tutorial_haar_measure.html\n",
    "\n",
    "    Parameters:\n",
    "        dim (int): the dimension of the matrix.\n",
    "    \"\"\"\n",
    "    # Step 1\n",
    "    A, B = np.random.normal(size=(dim, dim)), np.random.normal(size=(dim, dim))\n",
    "    Z = A + 1j * B\n",
    "\n",
    "    # Step 2\n",
    "    Q, R = np.linalg.qr(Z)\n",
    "\n",
    "    # Step 3\n",
    "    Lambda = np.diag([R[i, i] / np.abs(R[i, i]) for i in range(dim)])\n",
    "\n",
    "    # Step 4\n",
    "    return np.dot(Q, Lambda)\n",
    "\n",
    "\n",
    "self_nb_modes = 6\n",
    "\n",
    "self_unitary_top = generate_haar_unitary(self_nb_modes // 2)\n",
    "self_unitary_bottom = generate_haar_unitary(self_nb_modes // 2)\n",
    "\n",
    "eng = sf.Engine(\"fock\", backend_options={\"cutoff_dim\": 3})\n",
    "prog = sf.Program(self_nb_modes)\n",
    "\n",
    "mid_l = int(np.floor(self_nb_modes / 2) - 1)\n",
    "mid_h = int(np.floor(self_nb_modes / 2))\n",
    "\n",
    "with prog.context as q:\n",
    "    # Two-photons entanglement source\n",
    "    ops.Fock(1) | q[mid_l]\n",
    "    ops.Fock(1) | q[mid_h]\n",
    "\n",
    "    ops.BSgate(phi=np.pi / 2) | (q[mid_l - 1], q[mid_l])\n",
    "    ops.BSgate(phi=np.pi / 2) | (q[mid_h], q[mid_h + 1])\n",
    "\n",
    "    ops.BSgate(theta=np.pi / 2, phi=np.pi / 2) | (q[mid_l], q[mid_h])  # SWAP\n",
    "\n",
    "    # Interferometer\n",
    "    ops.Interferometer(self_unitary_top) | q[: mid_l + 1]\n",
    "    ops.Interferometer(self_unitary_bottom) | q[mid_h:]\n",
    "\n",
    "    # Detection\n",
    "    ops.MeasureFock() | q\n",
    "\n",
    "sample = eng.run(prog).samples[0]\n",
    "\n",
    "print(sample)"
   ]
  },
  {
   "cell_type": "code",
   "execution_count": 8,
   "id": "8f1af6e6-bb44-4e3d-9542-b1934c71752e",
   "metadata": {},
   "outputs": [
    {
     "name": "stdout",
     "output_type": "stream",
     "text": [
      "0: ────────────────────────────────────╭U(M0)─┤  <n>\n",
      "1: ──────╭BS(0.79,1.57)────────────────├U(M0)─┤  <n>\n",
      "2: ──|1⟩─╰BS(0.79,1.57)─╭BS(1.57,1.57)─╰U(M0)─┤  <n>\n",
      "3: ──|1⟩─╭BS(0.79,1.57)─╰BS(1.57,1.57)─╭U(M1)─┤  <n>\n",
      "4: ──────╰BS(0.79,1.57)────────────────├U(M1)─┤  <n>\n",
      "5: ────────────────────────────────────╰U(M1)─┤  <n>\n"
     ]
    }
   ],
   "source": [
    "print(qml.draw(circuit)())"
   ]
  },
  {
   "cell_type": "code",
   "execution_count": null,
   "id": "aae6bc0d-d047-41fb-b54e-70a445adf5f8",
   "metadata": {},
   "outputs": [],
   "source": [
    "import pennylane as qml\n",
    "n_modes = self_nb_modes\n",
    "\n",
    "dev = qml.device(\"strawberryfields.fock\", wires=n_modes, cutoff_dim=6)\n",
    "\n",
    "@qml.qnode(dev)\n",
    "def circuit():\n",
    "    mid_l = n_modes // 2 - 1\n",
    "    mid_h = n_modes // 2\n",
    "\n",
    "    # Two-photon entanglement source\n",
    "    qml.FockState(1, wires=mid_l)\n",
    "    qml.FockState(1, wires=mid_h)\n",
    "\n",
    "    # Beam splitters for entanglement\n",
    "    qml.Beamsplitter(phi=np.pi / 2, theta=np.pi /4, wires=[mid_l - 1, mid_l])\n",
    "    qml.Beamsplitter(phi=np.pi / 2, theta=np.pi /4, wires=[mid_h, mid_h + 1])\n",
    "\n",
    "    # SWAP operation\n",
    "    #qml.SWAP(wires=[mid_l, mid_h])\n",
    "\n",
    "    qml.Beamsplitter(phi=np.pi / 2, theta=np.pi / 2, wires=[mid_l, mid_h])\n",
    "    # Interferometer (apply random Haar unitaries)\n",
    "    \n",
    "    qml.InterferometerUnitary(self_unitary_top, wires=list(range(mid_l + 1)))\n",
    "    qml.InterferometerUnitary(self_unitary_bottom, wires=list(range(mid_h, n_modes)))\n",
    "\n",
    "    # Measurement\n",
    "    return [qml.expval(qml.NumberOperator(wires=i)) for i in range(n_modes)]\n",
    "\n",
    "# Run the circuit and get expectation values\n",
    "expectation_values = circuit()\n",
    "\n",
    "# Post-process to simulate photon number counts\n",
    "threshold = 0.5  # Threshold to consider whether a mode has a photon or not\n",
    "photon_counts = [1 if ev > threshold else 0 for ev in expectation_values]\n",
    "\n",
    "print(\"Photon Counts:\", photon_counts)"
   ]
  },
  {
   "cell_type": "code",
   "execution_count": null,
   "id": "2da2ac87-3e40-486c-bb3e-fe236b4f3719",
   "metadata": {},
   "outputs": [],
   "source": []
  }
 ],
 "metadata": {
  "kernelspec": {
   "display_name": "Python 3 (ipykernel)",
   "language": "python",
   "name": "python3"
  },
  "language_info": {
   "codemirror_mode": {
    "name": "ipython",
    "version": 3
   },
   "file_extension": ".py",
   "mimetype": "text/x-python",
   "name": "python",
   "nbconvert_exporter": "python",
   "pygments_lexer": "ipython3",
   "version": "3.11.7"
  }
 },
 "nbformat": 4,
 "nbformat_minor": 5
}
