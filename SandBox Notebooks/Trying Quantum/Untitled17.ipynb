{
 "cells": [
  {
   "cell_type": "code",
   "execution_count": 1,
   "id": "5439ae7e-4efe-40a3-9d0a-ebced866a870",
   "metadata": {},
   "outputs": [],
   "source": [
    "import pennylane as qml\n",
    "\n",
    "dev = qml.device('strawberryfields.fock', wires=2, cutoff_dim=10)"
   ]
  },
  {
   "cell_type": "code",
   "execution_count": 2,
   "id": "c39c79ef-5df3-491b-b885-9d9e139afd4a",
   "metadata": {},
   "outputs": [],
   "source": [
    "@qml.qnode(dev)\n",
    "def quantum_function(x, theta):\n",
    "    qml.Displacement(x, 0, wires=0)\n",
    "    qml.Beamsplitter(theta, 0, wires=[0, 1])\n",
    "    return qml.expval(qml.NumberOperator(0))"
   ]
  },
  {
   "cell_type": "code",
   "execution_count": 3,
   "id": "de793910-a430-47b5-9d37-45994fde0ad2",
   "metadata": {},
   "outputs": [
    {
     "data": {
      "text/plain": [
       "tensor(0.73301326, requires_grad=True)"
      ]
     },
     "execution_count": 3,
     "metadata": {},
     "output_type": "execute_result"
    }
   ],
   "source": [
    "quantum_function(1., 0.543)"
   ]
  },
  {
   "cell_type": "code",
   "execution_count": 8,
   "id": "532b496f-fb24-4112-bc18-39de94b62c00",
   "metadata": {},
   "outputs": [],
   "source": [
    "import numpy as np"
   ]
  },
  {
   "cell_type": "code",
   "execution_count": 9,
   "id": "f5cf1abb-994f-4601-a754-32bb52e65212",
   "metadata": {},
   "outputs": [],
   "source": [
    "def generate_haar_unitary(dim):\n",
    "    \"\"\"Generate a (dim, dim) Haar-random matrix using the QR decomposition.\n",
    "    Source: https://pennylane.ai/qml/demos/tutorial_haar_measure.html\n",
    "\n",
    "    Parameters:\n",
    "        dim (int): the dimension of the matrix.\n",
    "    \"\"\"\n",
    "    # Step 1\n",
    "    A, B = np.random.normal(size=(dim, dim)), np.random.normal(size=(dim, dim))\n",
    "    Z = A + 1j * B\n",
    "\n",
    "    # Step 2\n",
    "    Q, R = np.linalg.qr(Z)\n",
    "\n",
    "    # Step 3\n",
    "    Lambda = np.diag([R[i, i] / np.abs(R[i, i]) for i in range(dim)])\n",
    "\n",
    "    # Step 4\n",
    "    return np.dot(Q, Lambda)"
   ]
  },
  {
   "cell_type": "code",
   "execution_count": 71,
   "id": "855efe89-1dc9-4d11-8c96-6cd995b37c20",
   "metadata": {},
   "outputs": [],
   "source": [
    "n_modes = 5\n",
    "cutoff_dim = 3\n",
    "\n",
    "dev = qml.device(\"strawberryfields.fock\", wires=n_modes, cutoff_dim=cutoff_dim)\n",
    "\n",
    "# Define the random unitaries\n",
    "self_unitary_top = generate_haar_unitary(3)\n",
    "self_unitary_bottom = generate_haar_unitary(2)\n",
    "\n",
    "@qml.qnode(dev)\n",
    "def circuit():\n",
    "    mid_l = 2\n",
    "    mid_h = 3\n",
    "\n",
    "    # Two-photon entanglement source\n",
    "    qml.FockState(1, wires=mid_l)\n",
    "    qml.FockState(1, wires=mid_h)\n",
    "\n",
    "    # Beam splitters for entanglement\n",
    "    qml.Beamsplitter(phi=np.pi / 2, theta=np.pi /4, wires=[mid_l - 1, mid_l])\n",
    "    qml.Beamsplitter(phi=np.pi / 2, theta=np.pi /4, wires=[mid_h, mid_h + 1])\n",
    "\n",
    "    # SWAP operation\n",
    "    #qml.SWAP(wires=[mid_l, mid_h])\n",
    "\n",
    "    qml.Beamsplitter(phi=np.pi / 2, theta=np.pi / 2, wires=[mid_l, mid_h])\n",
    "    # Interferometer (apply random Haar unitaries)\n",
    "    \n",
    "    qml.InterferometerUnitary(self_unitary_top, wires=list(range(mid_l + 1)))\n",
    "    qml.InterferometerUnitary(self_unitary_bottom, wires=list(range(mid_h, n_modes)))\n",
    "\n",
    "    # Measurement\n",
    "    return qml.probs(wires=range(n_modes))\n",
    "\n",
    "probs1 = circuit().reshape([cutoff_dim] * n_modes)\n",
    "#print(probs)\n",
    "# Fock states to measure at output\n",
    "\n",
    "\n"
   ]
  },
  {
   "cell_type": "code",
   "execution_count": 66,
   "id": "d09c49ad-24cb-4f6b-b79a-442a70aad58f",
   "metadata": {},
   "outputs": [
    {
     "data": {
      "text/plain": [
       "(3, 3, 3, 3, 3)"
      ]
     },
     "execution_count": 66,
     "metadata": {},
     "output_type": "execute_result"
    }
   ],
   "source": [
    "probs.shape"
   ]
  },
  {
   "cell_type": "code",
   "execution_count": 67,
   "id": "d2a3e95d-2528-45c4-aed1-676a49332c61",
   "metadata": {},
   "outputs": [
    {
     "name": "stdout",
     "output_type": "stream",
     "text": [
      "0: ────────────────────────────────────╭U(M0)─┤ ╭Probs\n",
      "1: ──────╭BS(0.79,1.57)────────────────├U(M0)─┤ ├Probs\n",
      "2: ──|1⟩─╰BS(0.79,1.57)─╭BS(1.57,1.57)─╰U(M0)─┤ ├Probs\n",
      "3: ──|1⟩─╭BS(0.79,1.57)─╰BS(1.57,1.57)─╭U(M1)─┤ ├Probs\n",
      "4: ──────╰BS(0.79,1.57)────────────────╰U(M1)─┤ ╰Probs\n"
     ]
    }
   ],
   "source": [
    "print(qml.draw(circuit)())"
   ]
  },
  {
   "cell_type": "code",
   "execution_count": 72,
   "id": "64127aed-e509-4eb3-8106-a2291e4c6ccf",
   "metadata": {},
   "outputs": [
    {
     "name": "stdout",
     "output_type": "stream",
     "text": [
      "|20000>: 0.06303464988294274\n",
      "|02000>: 0.0008393044001482001\n",
      "|00200>: 0.054218915853727866\n",
      "|00020>: 0.1046946313741777\n",
      "|00002>: 0.1046946313741777\n",
      "|11000>: 0.062482452974773964\n",
      "|10100>: 0.00030686172379281476\n",
      "|10010>: 0.18112538056611927\n",
      "|10001>: 0.007733233898332965\n",
      "|01100>: 0.0691178151646144\n",
      "|01010>: 0.03150785595998333\n",
      "|01001>: 0.10177102097970148\n",
      "|00110>: 0.03736676347389741\n",
      "|00101>: 0.14049574512196558\n",
      "|00011>: 0.04061073725164468\n"
     ]
    }
   ],
   "source": [
    "measure_states1 = [(2, 0, 0, 0, 0), (0, 2, 0, 0, 0), (0, 0, 2, 0, 0), (0, 0, 0, 2, 0), (0, 0, 0, 0, 2), (1, 1, 0, 0, 0), (1, 0, 1, 0, 0),\n",
    "                  (1, 0, 0, 1, 0), (1, 0, 0, 0, 1), (0, 1, 1, 0, 0), (0, 1, 0, 1, 0), (0, 1, 0, 0, 1), (0, 0, 1, 1, 0), (0, 0, 1, 0, 1),\n",
    "                  (0, 0, 0, 1, 1)]\n",
    "\n",
    "# extract the probabilities of calculating several\n",
    "# different Fock states at the output, and print them out\n",
    "for i in measure_states:\n",
    "    print(f\"|{''.join(str(j) for j in i)}>: {probs[i]}\")"
   ]
  },
  {
   "cell_type": "code",
   "execution_count": 69,
   "id": "2405f82f-4700-4a9a-bed4-9391497fe132",
   "metadata": {},
   "outputs": [],
   "source": [
    "probabilities = [probs[i].item() for i in measure_states]"
   ]
  },
  {
   "cell_type": "code",
   "execution_count": 70,
   "id": "00207d68-9c69-4338-8b25-2f117a488579",
   "metadata": {},
   "outputs": [
    {
     "data": {
      "text/plain": [
       "tensor(0.06303465, requires_grad=True)"
      ]
     },
     "execution_count": 70,
     "metadata": {},
     "output_type": "execute_result"
    }
   ],
   "source": [
    "probs[measure_states[0]]"
   ]
  },
  {
   "cell_type": "code",
   "execution_count": 72,
   "id": "c18383b9-9c67-466b-b67d-b2d809a85572",
   "metadata": {},
   "outputs": [
    {
     "data": {
      "text/plain": [
       "[0.06567060345865058,\n",
       " 0.048462743697155114,\n",
       " 0.008852683037193923,\n",
       " 0.07594399843073138,\n",
       " 0.07594399843073142,\n",
       " 0.01939792151216582,\n",
       " 0.030659002374392244,\n",
       " 0.07670283775927167,\n",
       " 0.10469529304458752,\n",
       " 0.0769570459204424,\n",
       " 0.1631766726242217,\n",
       " 0.030103782202696716,\n",
       " 0.010120489616506662,\n",
       " 0.11520092475271582,\n",
       " 0.09811200313853731]"
      ]
     },
     "execution_count": 72,
     "metadata": {},
     "output_type": "execute_result"
    }
   ],
   "source": [
    "probabilities"
   ]
  },
  {
   "cell_type": "code",
   "execution_count": 74,
   "id": "ccd812a2-852e-4726-9c25-3c92d846570d",
   "metadata": {},
   "outputs": [],
   "source": [
    "state_probs /= np.sum(probabilities)"
   ]
  },
  {
   "cell_type": "code",
   "execution_count": 73,
   "id": "f9666444-8e51-4b53-adb1-d75ba7baeff6",
   "metadata": {},
   "outputs": [],
   "source": [
    "state_probs = probabilities"
   ]
  },
  {
   "cell_type": "code",
   "execution_count": 75,
   "id": "ee4e0e58-ed94-456d-9cba-e8516729bc19",
   "metadata": {},
   "outputs": [
    {
     "data": {
      "text/plain": [
       "[0.06567060345865057,\n",
       " 0.0484627436971551,\n",
       " 0.008852683037193922,\n",
       " 0.07594399843073137,\n",
       " 0.07594399843073141,\n",
       " 0.019397921512165815,\n",
       " 0.030659002374392237,\n",
       " 0.07670283775927166,\n",
       " 0.1046952930445875,\n",
       " 0.07695704592044239,\n",
       " 0.16317667262422167,\n",
       " 0.03010378220269671,\n",
       " 0.01012048961650666,\n",
       " 0.11520092475271579,\n",
       " 0.09811200313853728]"
      ]
     },
     "execution_count": 75,
     "metadata": {},
     "output_type": "execute_result"
    }
   ],
   "source": [
    "list(state_probs)"
   ]
  },
  {
   "cell_type": "code",
   "execution_count": 82,
   "id": "c8b0f5af-0ba8-4459-8229-08f8efc012ea",
   "metadata": {},
   "outputs": [
    {
     "data": {
      "text/plain": [
       "'10010'"
      ]
     },
     "execution_count": 82,
     "metadata": {},
     "output_type": "execute_result"
    }
   ],
   "source": [
    "np.random.choice(measure_states_str, p=state_probs)\n"
   ]
  },
  {
   "cell_type": "code",
   "execution_count": 48,
   "id": "036248ff-c2f7-4448-a039-2b37261e871e",
   "metadata": {},
   "outputs": [],
   "source": [
    "measure_states_str = [''.join(map(str, state)) for state in measure_states]"
   ]
  },
  {
   "cell_type": "code",
   "execution_count": 11,
   "id": "deae1655-f344-4087-ab41-28724ebacf9b",
   "metadata": {},
   "outputs": [],
   "source": [
    "state_probs = [0.06567060345865057,\n",
    " 0.0484627436971551,\n",
    " 0.008852683037193922,\n",
    " 0.07594399843073137,\n",
    " 0.07594399843073141,\n",
    " 0.019397921512165815,\n",
    " 0.030659002374392237,\n",
    " 0.07670283775927166,\n",
    " 0.1046952930445875,\n",
    " 0.07695704592044239,\n",
    " 0.16317667262422167,\n",
    " 0.03010378220269671,\n",
    " 0.01012048961650666,\n",
    " 0.11520092475271579,\n",
    " 0.09811200313853728]"
   ]
  },
  {
   "cell_type": "code",
   "execution_count": 12,
   "id": "b8d36d7a-cd0f-46f4-afde-11bb41f8ece4",
   "metadata": {},
   "outputs": [
    {
     "data": {
      "text/plain": [
       "[(0, 0, 0, 1, 1),\n",
       " (0, 0, 1, 0, 1),\n",
       " (0, 0, 1, 1, 0),\n",
       " (0, 1, 0, 0, 1),\n",
       " (0, 1, 0, 1, 0),\n",
       " (0, 1, 1, 0, 0),\n",
       " (1, 0, 0, 0, 1),\n",
       " (1, 0, 0, 1, 0),\n",
       " (1, 0, 1, 0, 0),\n",
       " (1, 1, 0, 0, 0),\n",
       " (0, 0, 0, 0, 2),\n",
       " (0, 0, 0, 2, 0),\n",
       " (0, 0, 2, 0, 0),\n",
       " (0, 2, 0, 0, 0),\n",
       " (2, 0, 0, 0, 0)]"
      ]
     },
     "execution_count": 12,
     "metadata": {},
     "output_type": "execute_result"
    }
   ],
   "source": [
    "measure_states"
   ]
  },
  {
   "cell_type": "code",
   "execution_count": 28,
   "id": "0452171c-7426-4bc8-9b34-431335a6af4a",
   "metadata": {},
   "outputs": [
    {
     "data": {
      "text/plain": [
       "[0, 0, 0, 1, 0]"
      ]
     },
     "execution_count": 28,
     "metadata": {},
     "output_type": "execute_result"
    }
   ],
   "source": [
    "\n",
    "[1 if x > 1 else x for x in list(measure_states[np.random.choice(range(len(measure_states)), p=state_probs)])]"
   ]
  },
  {
   "cell_type": "code",
   "execution_count": 6,
   "id": "0a503c36-0066-4e94-aa26-676dc696c2ee",
   "metadata": {},
   "outputs": [],
   "source": [
    "from itertools import groupby, permutations\n",
    "import numpy as np\n",
    "\n",
    "def get_subm_idx(inp_state_array):\n",
    "    indices = []\n",
    "    for i in range(len(inp_state_array)):\n",
    "        indices.extend([i] * inp_state_array[i])\n",
    "    return indices\n",
    "\n",
    "def decompose(n):\n",
    "    if n == 1:\n",
    "        return [[1]]\n",
    "    elif n == 2:\n",
    "        return [[1, 1], [2]]\n",
    "    elif n == 3:\n",
    "        return [[3], [2, 1], [1, 1, 1]]\n",
    "    elif n == 4:\n",
    "        return [[4], [3, 1], [2, 2], [2, 1, 1], [1, 1, 1, 1]]\n",
    "    elif n == 5:\n",
    "        return [[5], [4, 1], [3, 1, 1], [3, 2], [2, 1, 1, 1], [2, 2, 1], [1, 1, 1, 1, 1]]\n",
    "    else:\n",
    "        raise NotImplemented(\"Works only for n < 6 :)!\")\n",
    "\n",
    "def generate_output_states(total_photons, dim):\n",
    "    output_states = []\n",
    "    for i in decompose(total_photons):\n",
    "        diff = [0] * (dim - len(i))\n",
    "        i.extend(diff)\n",
    "        l = list(permutations(i))\n",
    "        l.sort()\n",
    "        cleaned = list(l for l,_ in groupby(l))\n",
    "        for c in cleaned:\n",
    "            s = [str(i) for i in c]\n",
    "            output_states.append(\"\".join(s))\n",
    "    return output_states"
   ]
  },
  {
   "cell_type": "code",
   "execution_count": 7,
   "id": "84b338a8-c306-4319-b09f-b5cb16ca974f",
   "metadata": {},
   "outputs": [
    {
     "data": {
      "text/plain": [
       "['00011',\n",
       " '00101',\n",
       " '00110',\n",
       " '01001',\n",
       " '01010',\n",
       " '01100',\n",
       " '10001',\n",
       " '10010',\n",
       " '10100',\n",
       " '11000',\n",
       " '00002',\n",
       " '00020',\n",
       " '00200',\n",
       " '02000',\n",
       " '20000']"
      ]
     },
     "execution_count": 7,
     "metadata": {},
     "output_type": "execute_result"
    }
   ],
   "source": [
    "generate_output_states(2, 5)"
   ]
  },
  {
   "cell_type": "code",
   "execution_count": 4,
   "id": "45a602f1-276f-4ecc-a56a-6f887a9648a9",
   "metadata": {},
   "outputs": [
    {
     "data": {
      "text/plain": [
       "[(0, 0, 0, 0, 0),\n",
       " (0, 0, 0, 0, 0),\n",
       " (0, 0, 0, 0, 1),\n",
       " (0, 0, 0, 0, 0),\n",
       " (0, 0, 0, 0, 0)]"
      ]
     },
     "execution_count": 4,
     "metadata": {},
     "output_type": "execute_result"
    }
   ],
   "source": [
    "[tuple((i // 2) for i in np.unravel_index(idx, [3] * 5)) for idx in range(5)]"
   ]
  },
  {
   "cell_type": "code",
   "execution_count": 5,
   "id": "70438bf5-0a6d-495c-b949-7485e8892868",
   "metadata": {},
   "outputs": [
    {
     "name": "stdout",
     "output_type": "stream",
     "text": [
      "[(0, 0, 0, 1, 1), (0, 0, 1, 0, 1), (0, 0, 1, 1, 0), (0, 1, 0, 0, 1), (0, 1, 0, 1, 0), (0, 1, 1, 0, 0), (1, 0, 0, 0, 1), (1, 0, 0, 1, 0), (1, 0, 1, 0, 0), (1, 1, 0, 0, 0), (0, 0, 0, 0, 2), (0, 0, 0, 2, 0), (0, 0, 2, 0, 0), (0, 2, 0, 0, 0), (2, 0, 0, 0, 0)]\n"
     ]
    }
   ],
   "source": [
    "from itertools import groupby, permutations\n",
    "import numpy as np\n",
    "\n",
    "def get_subm_idx(inp_state_array):\n",
    "    indices = []\n",
    "    for i in range(len(inp_state_array)):\n",
    "        indices.extend([i] * inp_state_array[i])\n",
    "    return indices\n",
    "\n",
    "def decompose(n):\n",
    "    if n == 1:\n",
    "        return [[1]]\n",
    "    elif n == 2:\n",
    "        return [[1, 1], [2]]\n",
    "    elif n == 3:\n",
    "        return [[3], [2, 1], [1, 1, 1]]\n",
    "    elif n == 4:\n",
    "        return [[4], [3, 1], [2, 2], [2, 1, 1], [1, 1, 1, 1]]\n",
    "    elif n == 5:\n",
    "        return [[5], [4, 1], [3, 1, 1], [3, 2], [2, 1, 1, 1], [2, 2, 1], [1, 1, 1, 1, 1]]\n",
    "    else:\n",
    "        raise NotImplementedError(\"Works only for n < 6 :)!\")\n",
    "\n",
    "def generate_output_states(total_photons, dim):\n",
    "    output_states = []\n",
    "    for i in decompose(total_photons):\n",
    "        diff = [0] * (dim - len(i))  # Extend the list to the correct dimension\n",
    "        i.extend(diff)\n",
    "        l = list(permutations(i))\n",
    "        l.sort()\n",
    "        cleaned = list(l for l, _ in groupby(l))  # Remove duplicate permutations\n",
    "        for c in cleaned:\n",
    "            output_states.append(tuple(c))  # Append as tuple instead of string\n",
    "    return output_states\n",
    "\n",
    "# Example usage:\n",
    "total_photons = 2\n",
    "dim = 5\n",
    "measure_states = generate_output_states(total_photons, dim)\n",
    "print(measure_states)\n"
   ]
  },
  {
   "cell_type": "code",
   "execution_count": 8,
   "id": "a28cb035-f72c-4820-9670-20f0215fd5eb",
   "metadata": {},
   "outputs": [
    {
     "data": {
      "text/plain": [
       "['00011',\n",
       " '00101',\n",
       " '00110',\n",
       " '01001',\n",
       " '01010',\n",
       " '01100',\n",
       " '10001',\n",
       " '10010',\n",
       " '10100',\n",
       " '11000',\n",
       " '00002',\n",
       " '00020',\n",
       " '00200',\n",
       " '02000',\n",
       " '20000']"
      ]
     },
     "execution_count": 8,
     "metadata": {},
     "output_type": "execute_result"
    }
   ],
   "source": [
    "generate_output_states(total_photons, dim)"
   ]
  },
  {
   "cell_type": "code",
   "execution_count": 9,
   "id": "b66e1625-308c-4945-a3bb-8da849b2a6d5",
   "metadata": {},
   "outputs": [
    {
     "data": {
      "text/plain": [
       "[(0, 0, 0, 1, 1),\n",
       " (0, 0, 1, 0, 1),\n",
       " (0, 0, 1, 1, 0),\n",
       " (0, 1, 0, 0, 1),\n",
       " (0, 1, 0, 1, 0),\n",
       " (0, 1, 1, 0, 0),\n",
       " (1, 0, 0, 0, 1),\n",
       " (1, 0, 0, 1, 0),\n",
       " (1, 0, 1, 0, 0),\n",
       " (1, 1, 0, 0, 0),\n",
       " (0, 0, 0, 0, 2),\n",
       " (0, 0, 0, 2, 0),\n",
       " (0, 0, 2, 0, 0),\n",
       " (0, 2, 0, 0, 0),\n",
       " (2, 0, 0, 0, 0)]"
      ]
     },
     "execution_count": 9,
     "metadata": {},
     "output_type": "execute_result"
    }
   ],
   "source": [
    "[tuple(map(int, list(item))) for item in generate_output_states(total_photons, dim)]\n"
   ]
  },
  {
   "cell_type": "code",
   "execution_count": 31,
   "id": "7b8c3f14-86b9-45e6-b613-cfe504758a8f",
   "metadata": {},
   "outputs": [],
   "source": [
    "from itertools import groupby, permutations\n",
    "import numpy as np\n",
    "\n",
    "def get_subm_idx(inp_state_array):\n",
    "    indices = []\n",
    "    for i in range(len(inp_state_array)):\n",
    "        indices.extend([i] * inp_state_array[i])\n",
    "    return indices\n",
    "\n",
    "def decompose(n):\n",
    "    if n == 1:\n",
    "        return [[1]]\n",
    "    elif n == 2:\n",
    "        return [[1, 1], [2]]\n",
    "    elif n == 3:\n",
    "        return [[3], [2, 1], [1, 1, 1]]\n",
    "    elif n == 4:\n",
    "        return [[4], [3, 1], [2, 2], [2, 1, 1], [1, 1, 1, 1]]\n",
    "    elif n == 5:\n",
    "        return [[5], [4, 1], [3, 1, 1], [3, 2], [2, 1, 1, 1], [2, 2, 1], [1, 1, 1, 1, 1]]\n",
    "    else:\n",
    "        raise NotImplemented(\"Works only for n < 6 :)!\")\n",
    "\n",
    "def generate_output_states(total_photons, dim):\n",
    "    output_states = []\n",
    "    for i in decompose(total_photons):\n",
    "        diff = [0] * (dim - len(i))\n",
    "        i.extend(diff)\n",
    "        l = list(permutations(i))\n",
    "        l.sort()\n",
    "        cleaned = list(l for l,_ in groupby(l))\n",
    "        for c in cleaned:\n",
    "            s = [str(i) for i in c]\n",
    "            output_states.append(\"\".join(s))\n",
    "    return output_states"
   ]
  },
  {
   "cell_type": "code",
   "execution_count": 32,
   "id": "80920c3c-0a8a-4605-8f4d-2f326c1a0430",
   "metadata": {},
   "outputs": [],
   "source": [
    "import numpy as np\n",
    "\n",
    "\n",
    "def generate_haar_unitary(dim):\n",
    "    \"\"\"Generate a (dim, dim) Haar-random matrix using the QR decomposition.\n",
    "    Source: https://pennylane.ai/qml/demos/tutorial_haar_measure.html\n",
    "\n",
    "    Parameters:\n",
    "        dim (int): the dimension of the matrix.\n",
    "    \"\"\"\n",
    "    # Step 1\n",
    "    A, B = np.random.normal(size=(dim, dim)), np.random.normal(size=(dim, dim))\n",
    "    Z = A + 1j * B\n",
    "\n",
    "    # Step 2\n",
    "    Q, R = np.linalg.qr(Z)\n",
    "\n",
    "    # Step 3\n",
    "    Lambda = np.diag([R[i, i] / np.abs(R[i, i]) for i in range(dim)])\n",
    "\n",
    "    # Step 4\n",
    "    return np.dot(Q, Lambda)\n"
   ]
  },
  {
   "cell_type": "code",
   "execution_count": 37,
   "id": "64c3654d-324a-4547-9187-364d56da8940",
   "metadata": {},
   "outputs": [],
   "source": [
    "#from \\Users\\Client\\Desktop\\cqt_rng2.0\\cqt_rng2.0\\utils\\generate_haar_unitary import generate_haar_unitary\n",
    "import pennylane as qml\n",
    "import numpy as np\n",
    "#from \\Users\\Client\\Desktop\\cqt_rng2.0\\cqt_rng2.0\\utils\\utils import generate_output_states\n",
    "\n",
    "\n",
    "\n",
    "class ShiSFSampler():\n",
    "    \"\"\"Simulates the Shi. and al. experiment on Strawberry Fields.\n",
    "\n",
    "    Parameters:\n",
    "        nb_modes (int, optional): Number of modes of the interferometer (should be an even number). Default to `6`.\n",
    "        unitary_top (np.ndarray, optional): The unitary to apply on the top-half of the modes. Default to randomly generated haar matrix.\n",
    "        unitary_bottom (np.ndarray, optional): The unitary to apply on the bottom-half of the modes. Default to randomly generated haar matrix.\n",
    "        cut_off_dim = the maximum dimension of the fock space. Default to 4\n",
    "    \"\"\"\n",
    "\n",
    "    def __init__(self, **kwargs):\n",
    "        self.name = \"ShiSFSampler\"\n",
    "        self.nb_modes = kwargs.get(\"nb_modes\")\n",
    "        self.unitary_top = kwargs.get(\"unitary_top\")\n",
    "        self.unitary_bottom = kwargs.get(\"unitary_bottom\")\n",
    "        self.cutoff_dim = kwargs.get(\"cut_off_dim\")\n",
    "        \n",
    "\n",
    "\n",
    "        if self.cutoff_dim is None:\n",
    "            self.cutoff_dim = 3\n",
    "\n",
    "        if self.nb_modes is None:\n",
    "            self.nb_modes = 4\n",
    "\n",
    "        if self.nb_modes % 2 or self.nb_modes < 4:\n",
    "            raise ValueError(\n",
    "                \"Wrong number of modes (nb_modes) expected to be even and higher than 3!\"\n",
    "            )\n",
    "\n",
    "        if self.unitary_top is None:\n",
    "            self.unitary_top = generate_haar_unitary(self.nb_modes // 2)\n",
    "\n",
    "        if self.unitary_bottom is None:\n",
    "            self.unitary_bottom = generate_haar_unitary(self.nb_modes // 2)\n",
    "\n",
    "        if (\n",
    "            np.shape(self.unitary_top)[0] != self.nb_modes // 2\n",
    "            or np.shape(self.unitary_bottom)[0] != self.nb_modes // 2\n",
    "            or np.shape(self.unitary_top)[1] != self.nb_modes // 2\n",
    "            or np.shape(self.unitary_bottom)[1] != self.nb_modes // 2\n",
    "        ):\n",
    "            raise ValueError(\n",
    "                f\"Wrong unitary dimensions expect to be ({int(self.nb_modes / 2)},{int(self.nb_modes / 2)}) for top and bottom!\"\n",
    "            )\n",
    "\n",
    "        self.dep_seq_len = self.nb_modes\n",
    "        self.seq_len = self.nb_modes\n",
    "        self.dev = qml.device(\"strawberryfields.fock\", wires=self.nb_modes, cutoff_dim=self.cutoff_dim)\n",
    "\n",
    "    def _successful_entanglement(self, sample):\n",
    "        nb_modes = np.size(sample)\n",
    "        return (\n",
    "            np.sum(sample[: nb_modes // 2]) == 1\n",
    "            and np.sum(sample[nb_modes // 2 :]) == 1\n",
    "        )\n",
    "\n",
    "    def _plsf_simulator(self):\n",
    "\n",
    "        @qml.qnode(self.dev)\n",
    "        def circuit():\n",
    "            mid_l = self.nb_modes // 2 - 1\n",
    "            mid_h = self.nb_modes // 2\n",
    "\n",
    "            # Two-photon entanglement source\n",
    "            qml.FockState(1, wires=mid_l)\n",
    "            qml.FockState(1, wires=mid_h)\n",
    "\n",
    "            # Beam splitters for entanglement\n",
    "            qml.Beamsplitter(phi=np.pi / 2, theta=np.pi / 4, wires=[mid_l - 1, mid_l])\n",
    "            qml.Beamsplitter(phi=np.pi / 2, theta=np.pi / 4, wires=[mid_h, mid_h + 1])\n",
    "\n",
    "            # SWAP operation\n",
    "            qml.Beamsplitter(phi=np.pi / 2, theta=np.pi / 2, wires=[mid_l, mid_h])\n",
    "\n",
    "            # Interferometer\n",
    "            qml.InterferometerUnitary(self.unitary_top, wires=list(range(mid_l + 1)))\n",
    "            qml.InterferometerUnitary(self.unitary_bottom, wires=list(range(mid_h, self.nb_modes)))\n",
    "\n",
    "            # Measurement\n",
    "            return qml.probs(wires=range(self.nb_modes))\n",
    "        \n",
    "        probs = circuit().reshape([self.cutoff_dim] * self.nb_modes)\n",
    "\n",
    "        measure_states = [tuple(map(int, list(item))) for item in generate_output_states(2, self.cutoff_dim)]\n",
    "\n",
    "        probabilities = [probs[i].item() for i in measure_states]\n",
    "\n",
    "        probabilities /= np.sum(probabilities)\n",
    "\n",
    "        return np.asarray([1 if x > 1 else x for x in list(measure_states[np.random.choice(range(len(measure_states)), p=probabilities)])])\n",
    "        \n",
    "\n",
    "    def _run_experiment(self):\n",
    "        ran_once = False\n",
    "        while not ran_once or self._successful_entanglement(sample):\n",
    "            sample = self._plsf_simulator()\n",
    "            ran_once = True\n",
    "        return sample\n",
    "\n",
    "    def sample(self, length):\n",
    "        shots = length // self.seq_len\n",
    "        ret = np.array([])\n",
    "        for _ in range(shots):\n",
    "            ret = np.append(ret, self._run_experiment())\n",
    "\n",
    "        return np.copy(ret[:length]).astype(np.int8)"
   ]
  },
  {
   "cell_type": "code",
   "execution_count": 40,
   "id": "94b10740-b964-477f-b31c-6d9bb9868aa1",
   "metadata": {},
   "outputs": [
    {
     "ename": "TypeError",
     "evalue": "'NotImplementedType' object is not callable",
     "output_type": "error",
     "traceback": [
      "\u001b[1;31m---------------------------------------------------------------------------\u001b[0m",
      "\u001b[1;31mTypeError\u001b[0m                                 Traceback (most recent call last)",
      "Cell \u001b[1;32mIn[40], line 1\u001b[0m\n\u001b[1;32m----> 1\u001b[0m ShiSFSampler()\u001b[38;5;241m.\u001b[39msample(\u001b[38;5;241m10\u001b[39m)\n",
      "Cell \u001b[1;32mIn[37], line 112\u001b[0m, in \u001b[0;36mShiSFSampler.sample\u001b[1;34m(self, length)\u001b[0m\n\u001b[0;32m    110\u001b[0m ret \u001b[38;5;241m=\u001b[39m np\u001b[38;5;241m.\u001b[39marray([])\n\u001b[0;32m    111\u001b[0m \u001b[38;5;28;01mfor\u001b[39;00m _ \u001b[38;5;129;01min\u001b[39;00m \u001b[38;5;28mrange\u001b[39m(shots):\n\u001b[1;32m--> 112\u001b[0m     ret \u001b[38;5;241m=\u001b[39m np\u001b[38;5;241m.\u001b[39mappend(ret, \u001b[38;5;28mself\u001b[39m\u001b[38;5;241m.\u001b[39m_run_experiment())\n\u001b[0;32m    114\u001b[0m \u001b[38;5;28;01mreturn\u001b[39;00m np\u001b[38;5;241m.\u001b[39mcopy(ret[:length])\u001b[38;5;241m.\u001b[39mastype(np\u001b[38;5;241m.\u001b[39mint8)\n",
      "Cell \u001b[1;32mIn[37], line 104\u001b[0m, in \u001b[0;36mShiSFSampler._run_experiment\u001b[1;34m(self)\u001b[0m\n\u001b[0;32m    102\u001b[0m ran_once \u001b[38;5;241m=\u001b[39m \u001b[38;5;28;01mFalse\u001b[39;00m\n\u001b[0;32m    103\u001b[0m \u001b[38;5;28;01mwhile\u001b[39;00m \u001b[38;5;129;01mnot\u001b[39;00m ran_once \u001b[38;5;129;01mor\u001b[39;00m \u001b[38;5;28mself\u001b[39m\u001b[38;5;241m.\u001b[39m_successful_entanglement(sample):\n\u001b[1;32m--> 104\u001b[0m     sample \u001b[38;5;241m=\u001b[39m \u001b[38;5;28mself\u001b[39m\u001b[38;5;241m.\u001b[39m_plsf_simulator()\n\u001b[0;32m    105\u001b[0m     ran_once \u001b[38;5;241m=\u001b[39m \u001b[38;5;28;01mTrue\u001b[39;00m\n\u001b[0;32m    106\u001b[0m \u001b[38;5;28;01mreturn\u001b[39;00m sample\n",
      "Cell \u001b[1;32mIn[37], line 92\u001b[0m, in \u001b[0;36mShiSFSampler._plsf_simulator\u001b[1;34m(self)\u001b[0m\n\u001b[0;32m     88\u001b[0m     \u001b[38;5;28;01mreturn\u001b[39;00m qml\u001b[38;5;241m.\u001b[39mprobs(wires\u001b[38;5;241m=\u001b[39m\u001b[38;5;28mrange\u001b[39m(\u001b[38;5;28mself\u001b[39m\u001b[38;5;241m.\u001b[39mnb_modes))\n\u001b[0;32m     90\u001b[0m probs \u001b[38;5;241m=\u001b[39m circuit()\u001b[38;5;241m.\u001b[39mreshape([\u001b[38;5;28mself\u001b[39m\u001b[38;5;241m.\u001b[39mcutoff_dim] \u001b[38;5;241m*\u001b[39m \u001b[38;5;28mself\u001b[39m\u001b[38;5;241m.\u001b[39mnb_modes)\n\u001b[1;32m---> 92\u001b[0m measure_states \u001b[38;5;241m=\u001b[39m [\u001b[38;5;28mtuple\u001b[39m(\u001b[38;5;28mmap\u001b[39m(\u001b[38;5;28mint\u001b[39m, \u001b[38;5;28mlist\u001b[39m(item))) \u001b[38;5;28;01mfor\u001b[39;00m item \u001b[38;5;129;01min\u001b[39;00m generate_output_states(\u001b[38;5;28mself\u001b[39m\u001b[38;5;241m.\u001b[39mnb_modes, \u001b[38;5;28mself\u001b[39m\u001b[38;5;241m.\u001b[39mcutoff_dim)]\n\u001b[0;32m     94\u001b[0m probabilities \u001b[38;5;241m=\u001b[39m [probs[i]\u001b[38;5;241m.\u001b[39mitem() \u001b[38;5;28;01mfor\u001b[39;00m i \u001b[38;5;129;01min\u001b[39;00m measure_states]\n\u001b[0;32m     96\u001b[0m probabilities \u001b[38;5;241m/\u001b[39m\u001b[38;5;241m=\u001b[39m np\u001b[38;5;241m.\u001b[39msum(probabilities)\n",
      "Cell \u001b[1;32mIn[31], line 26\u001b[0m, in \u001b[0;36mgenerate_output_states\u001b[1;34m(total_photons, dim)\u001b[0m\n\u001b[0;32m     24\u001b[0m \u001b[38;5;28;01mdef\u001b[39;00m \u001b[38;5;21mgenerate_output_states\u001b[39m(total_photons, dim):\n\u001b[0;32m     25\u001b[0m     output_states \u001b[38;5;241m=\u001b[39m []\n\u001b[1;32m---> 26\u001b[0m     \u001b[38;5;28;01mfor\u001b[39;00m i \u001b[38;5;129;01min\u001b[39;00m decompose(total_photons):\n\u001b[0;32m     27\u001b[0m         diff \u001b[38;5;241m=\u001b[39m [\u001b[38;5;241m0\u001b[39m] \u001b[38;5;241m*\u001b[39m (dim \u001b[38;5;241m-\u001b[39m \u001b[38;5;28mlen\u001b[39m(i))\n\u001b[0;32m     28\u001b[0m         i\u001b[38;5;241m.\u001b[39mextend(diff)\n",
      "Cell \u001b[1;32mIn[31], line 22\u001b[0m, in \u001b[0;36mdecompose\u001b[1;34m(n)\u001b[0m\n\u001b[0;32m     20\u001b[0m     \u001b[38;5;28;01mreturn\u001b[39;00m [[\u001b[38;5;241m5\u001b[39m], [\u001b[38;5;241m4\u001b[39m, \u001b[38;5;241m1\u001b[39m], [\u001b[38;5;241m3\u001b[39m, \u001b[38;5;241m1\u001b[39m, \u001b[38;5;241m1\u001b[39m], [\u001b[38;5;241m3\u001b[39m, \u001b[38;5;241m2\u001b[39m], [\u001b[38;5;241m2\u001b[39m, \u001b[38;5;241m1\u001b[39m, \u001b[38;5;241m1\u001b[39m, \u001b[38;5;241m1\u001b[39m], [\u001b[38;5;241m2\u001b[39m, \u001b[38;5;241m2\u001b[39m, \u001b[38;5;241m1\u001b[39m], [\u001b[38;5;241m1\u001b[39m, \u001b[38;5;241m1\u001b[39m, \u001b[38;5;241m1\u001b[39m, \u001b[38;5;241m1\u001b[39m, \u001b[38;5;241m1\u001b[39m]]\n\u001b[0;32m     21\u001b[0m \u001b[38;5;28;01melse\u001b[39;00m:\n\u001b[1;32m---> 22\u001b[0m     \u001b[38;5;28;01mraise\u001b[39;00m \u001b[38;5;28mNotImplemented\u001b[39m(\u001b[38;5;124m\"\u001b[39m\u001b[38;5;124mWorks only for n < 6 :)!\u001b[39m\u001b[38;5;124m\"\u001b[39m)\n",
      "\u001b[1;31mTypeError\u001b[0m: 'NotImplementedType' object is not callable"
     ]
    }
   ],
   "source": [
    "ShiSFSampler().sample(10)"
   ]
  },
  {
   "cell_type": "code",
   "execution_count": 85,
   "id": "d4cd713f-d9be-4b9d-b2aa-f1025293df14",
   "metadata": {},
   "outputs": [
    {
     "data": {
      "text/plain": [
       "array([1, 0, 0, 1])"
      ]
     },
     "execution_count": 85,
     "metadata": {},
     "output_type": "execute_result"
    }
   ],
   "source": [
    "dev = qml.device(\"strawberryfields.fock\", wires=4, cutoff_dim=3)\n",
    "unitary_top = generate_haar_unitary(4 // 2)\n",
    "unitary_bottom = generate_haar_unitary(4 // 2)\n",
    "@qml.qnode(dev)\n",
    "def circuit():\n",
    "    mid_l = 4 // 2 - 1\n",
    "    mid_h = 4 // 2\n",
    "    \n",
    "    # Two-photon entanglement source\n",
    "    qml.FockState(1, wires=mid_l)\n",
    "    qml.FockState(1, wires=mid_h)\n",
    "    \n",
    "    # Beam splitters for entanglement\n",
    "    qml.Beamsplitter(phi=np.pi / 2, theta=np.pi / 4, wires=[mid_l - 1, mid_l])\n",
    "    qml.Beamsplitter(phi=np.pi / 2, theta=np.pi / 4, wires=[mid_h, mid_h + 1])\n",
    "    \n",
    "    # SWAP operation\n",
    "    qml.Beamsplitter(phi=np.pi / 2, theta=np.pi / 2, wires=[mid_l, mid_h])\n",
    "    \n",
    "    # Interferometer\n",
    "    qml.InterferometerUnitary(unitary_top, wires=list(range(mid_l + 1)))\n",
    "    qml.InterferometerUnitary(unitary_bottom, wires=list(range(mid_h, 4)))\n",
    "    \n",
    "    # Measurement\n",
    "    return qml.probs(wires=range(4))\n",
    "\n",
    "probs = circuit().reshape([3] * 4)\n",
    "#print(probs.shape)\n",
    "\n",
    "measure_states = [tuple(map(int, list(item))) for item in generate_output_states(2, 4)]\n",
    "#print(measure_states)\n",
    "\n",
    "\n",
    "probabilities = [probs[i].item() for i in measure_states]\n",
    "\n",
    "probabilities /= np.sum(probabilities)\n",
    "\n",
    "np.asarray([1 if x > 1 else x for x in list(measure_states[np.random.choice(range(len(measure_states)), p=probabilities)])])"
   ]
  }
 ],
 "metadata": {
  "kernelspec": {
   "display_name": "Python 3 (ipykernel)",
   "language": "python",
   "name": "python3"
  },
  "language_info": {
   "codemirror_mode": {
    "name": "ipython",
    "version": 3
   },
   "file_extension": ".py",
   "mimetype": "text/x-python",
   "name": "python",
   "nbconvert_exporter": "python",
   "pygments_lexer": "ipython3",
   "version": "3.11.7"
  }
 },
 "nbformat": 4,
 "nbformat_minor": 5
}
