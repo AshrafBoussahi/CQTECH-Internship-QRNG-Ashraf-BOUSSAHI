{
 "cells": [
  {
   "cell_type": "code",
   "execution_count": 1,
   "id": "31b6d141-cd37-4511-97ad-9c8f80ab8b90",
   "metadata": {},
   "outputs": [],
   "source": [
    "import numpy as np\n",
    "\n",
    "# set the random seed\n",
    "np.random.seed(42)\n",
    "\n",
    "# import PennyLane\n",
    "import pennylane as qml"
   ]
  },
  {
   "cell_type": "code",
   "execution_count": 2,
   "id": "4ad1ec59-7a6b-4e9f-84a7-17c1643cb96e",
   "metadata": {},
   "outputs": [
    {
     "name": "stdout",
     "output_type": "stream",
     "text": [
      "[[ 0.23648826-0.48221431j  0.06829648+0.04447898j  0.51150074-0.09529866j\n",
      "   0.55205719-0.35974699j]\n",
      " [-0.11148167+0.69780321j -0.24943828+0.08410701j  0.46705929-0.43192981j\n",
      "   0.16220654-0.01817602j]\n",
      " [-0.22351926-0.25918352j  0.24364996-0.05375623j -0.09259829-0.53810588j\n",
      "   0.27267708+0.66941977j]\n",
      " [ 0.11519953-0.28596729j -0.90164923-0.22099186j -0.09627758-0.13105595j\n",
      "  -0.0200152 +0.12766128j]]\n"
     ]
    }
   ],
   "source": [
    "from scipy.stats import unitary_group\n",
    "\n",
    "# define the linear interferometer\n",
    "U = unitary_group.rvs(4)\n",
    "print(U)"
   ]
  },
  {
   "cell_type": "code",
   "execution_count": 3,
   "id": "6c5c46b6-f6c5-4477-bfd4-692d85fe6181",
   "metadata": {},
   "outputs": [],
   "source": [
    "n_wires = 4\n",
    "cutoff = 10\n",
    "\n",
    "dev = qml.device(\"strawberryfields.gaussian\", wires=n_wires, cutoff_dim=cutoff)\n",
    "\n",
    "\n",
    "@qml.qnode(dev)\n",
    "def gbs_circuit():\n",
    "    # prepare the input squeezed states\n",
    "    for i in range(n_wires):\n",
    "        qml.Squeezing(1.0, 0.0, wires=i)\n",
    "\n",
    "    # linear interferometer\n",
    "    qml.InterferometerUnitary(U, wires=range(n_wires))\n",
    "    return qml.probs(wires=range(n_wires))"
   ]
  },
  {
   "cell_type": "code",
   "execution_count": 16,
   "id": "35fef5db-57cc-435a-97f3-b8045b207c8d",
   "metadata": {},
   "outputs": [
    {
     "name": "stdout",
     "output_type": "stream",
     "text": [
      "(10000,)\n"
     ]
    }
   ],
   "source": [
    "probs = gbs_circuit()\n",
    "print(probs.shape)"
   ]
  },
  {
   "cell_type": "code",
   "execution_count": 12,
   "id": "c3fda19a-1250-496d-88cd-799667a349f2",
   "metadata": {},
   "outputs": [
    {
     "ename": "IndexError",
     "evalue": "too many indices for array: array is 1-dimensional, but 4 were indexed",
     "output_type": "error",
     "traceback": [
      "\u001b[1;31m---------------------------------------------------------------------------\u001b[0m",
      "\u001b[1;31mIndexError\u001b[0m                                Traceback (most recent call last)",
      "Cell \u001b[1;32mIn[12], line 7\u001b[0m\n\u001b[0;32m      4\u001b[0m \u001b[38;5;66;03m# extract the probabilities of calculating several\u001b[39;00m\n\u001b[0;32m      5\u001b[0m \u001b[38;5;66;03m# different Fock states at the output, and print them out\u001b[39;00m\n\u001b[0;32m      6\u001b[0m \u001b[38;5;28;01mfor\u001b[39;00m i \u001b[38;5;129;01min\u001b[39;00m measure_states:\n\u001b[1;32m----> 7\u001b[0m     \u001b[38;5;28mprint\u001b[39m(\u001b[38;5;124mf\u001b[39m\u001b[38;5;124m\"\u001b[39m\u001b[38;5;124m|\u001b[39m\u001b[38;5;132;01m{\u001b[39;00m\u001b[38;5;124m'\u001b[39m\u001b[38;5;124m'\u001b[39m\u001b[38;5;241m.\u001b[39mjoin(\u001b[38;5;28mstr\u001b[39m(j)\u001b[38;5;250m \u001b[39m\u001b[38;5;28;01mfor\u001b[39;00m\u001b[38;5;250m \u001b[39mj\u001b[38;5;250m \u001b[39m\u001b[38;5;129;01min\u001b[39;00m\u001b[38;5;250m \u001b[39mi)\u001b[38;5;132;01m}\u001b[39;00m\u001b[38;5;124m>: \u001b[39m\u001b[38;5;132;01m{\u001b[39;00mprobs[i]\u001b[38;5;132;01m}\u001b[39;00m\u001b[38;5;124m\"\u001b[39m)\n",
      "File \u001b[1;32m~\\anaconda3\\Lib\\site-packages\\pennylane\\numpy\\tensor.py:187\u001b[0m, in \u001b[0;36mtensor.__getitem__\u001b[1;34m(self, *args, **kwargs)\u001b[0m\n\u001b[0;32m    186\u001b[0m \u001b[38;5;28;01mdef\u001b[39;00m \u001b[38;5;21m__getitem__\u001b[39m(\u001b[38;5;28mself\u001b[39m, \u001b[38;5;241m*\u001b[39margs, \u001b[38;5;241m*\u001b[39m\u001b[38;5;241m*\u001b[39mkwargs):\n\u001b[1;32m--> 187\u001b[0m     item \u001b[38;5;241m=\u001b[39m \u001b[38;5;28msuper\u001b[39m()\u001b[38;5;241m.\u001b[39m\u001b[38;5;21m__getitem__\u001b[39m(\u001b[38;5;241m*\u001b[39margs, \u001b[38;5;241m*\u001b[39m\u001b[38;5;241m*\u001b[39mkwargs)\n\u001b[0;32m    189\u001b[0m     \u001b[38;5;28;01mif\u001b[39;00m \u001b[38;5;129;01mnot\u001b[39;00m \u001b[38;5;28misinstance\u001b[39m(item, tensor):\n\u001b[0;32m    190\u001b[0m         item \u001b[38;5;241m=\u001b[39m tensor(item, requires_grad\u001b[38;5;241m=\u001b[39m\u001b[38;5;28mself\u001b[39m\u001b[38;5;241m.\u001b[39mrequires_grad)\n",
      "\u001b[1;31mIndexError\u001b[0m: too many indices for array: array is 1-dimensional, but 4 were indexed"
     ]
    }
   ],
   "source": [
    "# Fock states to measure at output\n",
    "measure_states = [(0, 0, 0, 0), (1, 1, 0, 0), (0, 1, 0, 1), (1, 1, 1, 1), (2, 0, 0, 0),(1, 0, 1, 0)]\n",
    "\n",
    "# extract the probabilities of calculating several\n",
    "# different Fock states at the output, and print them out\n",
    "for i in measure_states:\n",
    "    print(f\"|{''.join(str(j) for j in i)}>: {probs[i]}\")"
   ]
  },
  {
   "cell_type": "code",
   "execution_count": 15,
   "id": "332b5e86-3afc-4176-9993-e27601b495ad",
   "metadata": {},
   "outputs": [
    {
     "name": "stdout",
     "output_type": "stream",
     "text": [
      "0: ──S(1.00,0.00)─╭U(M0)─┤ ╭Probs\n",
      "1: ──S(1.00,0.00)─├U(M0)─┤ ├Probs\n",
      "2: ──S(1.00,0.00)─├U(M0)─┤ ├Probs\n",
      "3: ──S(1.00,0.00)─╰U(M0)─┤ ╰Probs\n"
     ]
    }
   ],
   "source": [
    "print(qml.draw(gbs_circuit)())"
   ]
  },
  {
   "cell_type": "code",
   "execution_count": 17,
   "id": "33f46dae-f262-43f5-86b3-e514572cbba7",
   "metadata": {},
   "outputs": [
    {
     "ename": "DeviceError",
     "evalue": "Shots must be a single non-negative integer or a sequence of non-negative integers.",
     "output_type": "error",
     "traceback": [
      "\u001b[1;31m---------------------------------------------------------------------------\u001b[0m",
      "\u001b[1;31mDeviceError\u001b[0m                               Traceback (most recent call last)",
      "Cell \u001b[1;32mIn[17], line 49\u001b[0m\n\u001b[0;32m     47\u001b[0m \u001b[38;5;66;03m# Example usage:\u001b[39;00m\n\u001b[0;32m     48\u001b[0m sampler \u001b[38;5;241m=\u001b[39m UniversalQCSampler(nb_qubits\u001b[38;5;241m=\u001b[39m\u001b[38;5;241m3\u001b[39m, operation\u001b[38;5;241m=\u001b[39m\u001b[38;5;124m\"\u001b[39m\u001b[38;5;124mhadamard\u001b[39m\u001b[38;5;124m\"\u001b[39m)\n\u001b[1;32m---> 49\u001b[0m \u001b[38;5;28mprint\u001b[39m(sampler\u001b[38;5;241m.\u001b[39msample(\u001b[38;5;241m10\u001b[39m))\n",
      "Cell \u001b[1;32mIn[17], line 43\u001b[0m, in \u001b[0;36mUniversalQCSampler.sample\u001b[1;34m(self, length)\u001b[0m\n\u001b[0;32m     42\u001b[0m \u001b[38;5;28;01mdef\u001b[39;00m \u001b[38;5;21msample\u001b[39m(\u001b[38;5;28mself\u001b[39m, length):\n\u001b[1;32m---> 43\u001b[0m     memory \u001b[38;5;241m=\u001b[39m \u001b[38;5;28mself\u001b[39m\u001b[38;5;241m.\u001b[39m_simulate(length)\n\u001b[0;32m     44\u001b[0m     bitstring_str \u001b[38;5;241m=\u001b[39m \u001b[38;5;124m\"\u001b[39m\u001b[38;5;124m\"\u001b[39m\u001b[38;5;241m.\u001b[39mjoin(\u001b[38;5;28mmap\u001b[39m(\u001b[38;5;28mstr\u001b[39m, memory))\n\u001b[0;32m     45\u001b[0m     \u001b[38;5;28;01mreturn\u001b[39;00m np\u001b[38;5;241m.\u001b[39marray(\u001b[38;5;28mlist\u001b[39m(bitstring_str))\u001b[38;5;241m.\u001b[39mastype(np\u001b[38;5;241m.\u001b[39mint8)[:length]\n",
      "Cell \u001b[1;32mIn[17], line 27\u001b[0m, in \u001b[0;36mUniversalQCSampler._simulate\u001b[1;34m(self, length)\u001b[0m\n\u001b[0;32m     25\u001b[0m \u001b[38;5;28;01mdef\u001b[39;00m \u001b[38;5;21m_simulate\u001b[39m(\u001b[38;5;28mself\u001b[39m, length):\n\u001b[0;32m     26\u001b[0m     shots \u001b[38;5;241m=\u001b[39m np\u001b[38;5;241m.\u001b[39mmax([length \u001b[38;5;241m/\u001b[39m\u001b[38;5;241m/\u001b[39m \u001b[38;5;28mself\u001b[39m\u001b[38;5;241m.\u001b[39mnb_qubits, \u001b[38;5;241m2\u001b[39m])\n\u001b[1;32m---> 27\u001b[0m     \u001b[38;5;28mself\u001b[39m\u001b[38;5;241m.\u001b[39mdev\u001b[38;5;241m.\u001b[39mshots \u001b[38;5;241m=\u001b[39m shots\n\u001b[0;32m     29\u001b[0m     \u001b[38;5;129m@qml\u001b[39m\u001b[38;5;241m.\u001b[39mqnode(\u001b[38;5;28mself\u001b[39m\u001b[38;5;241m.\u001b[39mdev)\n\u001b[0;32m     30\u001b[0m     \u001b[38;5;28;01mdef\u001b[39;00m \u001b[38;5;21mcircuit\u001b[39m():\n\u001b[0;32m     31\u001b[0m         \u001b[38;5;28;01mfor\u001b[39;00m i \u001b[38;5;129;01min\u001b[39;00m \u001b[38;5;28mrange\u001b[39m(\u001b[38;5;28mself\u001b[39m\u001b[38;5;241m.\u001b[39mnb_qubits):\n",
      "File \u001b[1;32m~\\anaconda3\\Lib\\site-packages\\pennylane\\_device.py:282\u001b[0m, in \u001b[0;36mDevice.shots\u001b[1;34m(self, shots)\u001b[0m\n\u001b[0;32m    279\u001b[0m     \u001b[38;5;28mself\u001b[39m\u001b[38;5;241m.\u001b[39m_raw_shot_sequence \u001b[38;5;241m=\u001b[39m shots\n\u001b[0;32m    281\u001b[0m \u001b[38;5;28;01melse\u001b[39;00m:\n\u001b[1;32m--> 282\u001b[0m     \u001b[38;5;28;01mraise\u001b[39;00m DeviceError(\n\u001b[0;32m    283\u001b[0m         \u001b[38;5;124m\"\u001b[39m\u001b[38;5;124mShots must be a single non-negative integer or a sequence of non-negative integers.\u001b[39m\u001b[38;5;124m\"\u001b[39m\n\u001b[0;32m    284\u001b[0m     )\n",
      "\u001b[1;31mDeviceError\u001b[0m: Shots must be a single non-negative integer or a sequence of non-negative integers."
     ]
    }
   ],
   "source": [
    "import pennylane as qml\n",
    "import numpy as np\n",
    "\n",
    "class UniversalQCSampler:\n",
    "    \"\"\"\n",
    "    Sample taken from PennyLane's default.qubit simulator (using the Qubit-based approach)\n",
    "\n",
    "    Parameters:\n",
    "        nb_qubits (int, optional): the number of qubits of the circuit. Defaults to `5`.\n",
    "        operation (\"rotation\" | \"hadamard\", optional): the gate applied on the qubits. Defaults to Hadamards.\n",
    "        angle (float, optional): the rotation angle (around y-axis). Necessary in the case the operation is rotation.\n",
    "    \"\"\"\n",
    "\n",
    "    def __init__(self, **kwargs):\n",
    "        self.name = \"UniversalQCSampler\"\n",
    "        self.nb_qubits = kwargs.get(\"nb_qubits\", 5)\n",
    "        self.operation = kwargs.get(\"operation\", \"hadamard\")\n",
    "        self.angle = kwargs.get(\"angle\", None)\n",
    "\n",
    "        if self.operation == \"rotation\" and self.angle is None:\n",
    "            raise ValueError(\"You must define an angle when choosing the 'rotation' operation.\")\n",
    "\n",
    "        self.dev = qml.device(\"default.qubit\", wires=self.nb_qubits, shots=1)\n",
    "\n",
    "    def _simulate(self, length):\n",
    "        shots = np.max([length // self.nb_qubits, 2])\n",
    "        self.dev.shots = shots\n",
    "\n",
    "        @qml.qnode(self.dev)\n",
    "        def circuit():\n",
    "            for i in range(self.nb_qubits):\n",
    "                if self.operation == \"hadamard\":\n",
    "                    qml.Hadamard(wires=i)\n",
    "                elif self.operation == \"rotation\":\n",
    "                    qml.RY(self.angle, wires=i)\n",
    "                else:\n",
    "                    raise NotImplementedError(\"Defined operation not implemented yet!\")\n",
    "            return qml.sample(qml.PauliZ(wires=range(self.nb_qubits)))\n",
    "\n",
    "        return circuit()\n",
    "\n",
    "    def sample(self, length):\n",
    "        memory = self._simulate(length)\n",
    "        bitstring_str = \"\".join(map(str, memory))\n",
    "        return np.array(list(bitstring_str)).astype(np.int8)[:length]\n",
    "\n",
    "# Example usage:\n",
    "sampler = UniversalQCSampler(nb_qubits=3, operation=\"hadamard\")\n",
    "print(sampler.sample(10))\n"
   ]
  },
  {
   "cell_type": "code",
   "execution_count": 62,
   "id": "7b467b09-e696-4de1-9d33-551ecb86704d",
   "metadata": {},
   "outputs": [
    {
     "name": "stdout",
     "output_type": "stream",
     "text": [
      "0: ──RY(1.57)─┤  Sample[Z]\n",
      "1: ──RY(1.57)─┤  Sample[Z]\n",
      "2: ──RY(1.57)─┤  Sample[Z]\n",
      "[1 0 1 0 1 0 1 1 0 0]\n"
     ]
    }
   ],
   "source": [
    "import pennylane as qml\n",
    "import numpy as np\n",
    "\n",
    "class UniversalQCSampler:\n",
    "    \"\"\"\n",
    "    Sample taken from PennyLane's default.qubit simulator (using the Qubit-based approach)\n",
    "    \"\"\"\n",
    "\n",
    "    def __init__(self, **kwargs):\n",
    "        self.name = \"UniversalQCSampler\"\n",
    "        self.nb_qubits = kwargs.get(\"nb_qubits\", 5)\n",
    "        self.operation = kwargs.get(\"operation\", \"hadamard\")\n",
    "        self.angle = kwargs.get(\"angle\", None)\n",
    "\n",
    "        if self.operation == \"rotation\" and self.angle is None:\n",
    "            raise ValueError(\"You must define an angle when choosing the 'rotation' operation.\")\n",
    "\n",
    "        # Set up the device with a default number of shots\n",
    "        self.default_shots = 1000\n",
    "        self.dev = qml.device(\"default.qubit\", wires=self.nb_qubits, shots=self.default_shots)\n",
    "\n",
    "    def simulate(self, length):\n",
    "        shots = np.max([length // self.nb_qubits, 2])\n",
    "    \n",
    "        @qml.qnode(self.dev)\n",
    "        def circuit():\n",
    "            for i in range(self.nb_qubits):\n",
    "                if self.operation == \"hadamard\":\n",
    "                    qml.Hadamard(wires=i)\n",
    "                elif self.operation == \"rotation\":\n",
    "                    qml.RY(self.angle, wires=i)\n",
    "                else:\n",
    "                    raise NotImplementedError(\"Defined operation not implemented yet!\")\n",
    "            #print(qml.draw(circuit)())\n",
    "            return [qml.sample(qml.PauliZ(wires=i)) for i in range(self.nb_qubits)]\n",
    "        \n",
    "        #(qml.draw(circuit)())\n",
    "        # Run the circuit multiple times to get the desired number of samples\n",
    "        result = []\n",
    "        for _ in range(shots):\n",
    "            result.extend(circuit())\n",
    "    \n",
    "        return np.array(result)\n",
    "\n",
    "\n",
    "    def sample(self, length):\n",
    "        memory = self.simulate(length).flatten()\n",
    "        # Map -1 to 0 and +1 to 1\n",
    "        memory = (memory + 1) // 2\n",
    "        return memory[:length]\n",
    "\n",
    "\n",
    "\n",
    "# Example usage:\n",
    "sampler = UniversalQCSampler(nb_qubits=3, operation=\"rotation\", angle = np.pi/2)\n",
    "print(sampler.sample(10))\n"
   ]
  },
  {
   "cell_type": "code",
   "execution_count": null,
   "id": "a5d3a47f-07b4-4aa5-b1ee-2e37dc78eaac",
   "metadata": {},
   "outputs": [],
   "source": [
    "sampler.simulate()"
   ]
  }
 ],
 "metadata": {
  "kernelspec": {
   "display_name": "Python 3 (ipykernel)",
   "language": "python",
   "name": "python3"
  },
  "language_info": {
   "codemirror_mode": {
    "name": "ipython",
    "version": 3
   },
   "file_extension": ".py",
   "mimetype": "text/x-python",
   "name": "python",
   "nbconvert_exporter": "python",
   "pygments_lexer": "ipython3",
   "version": "3.11.7"
  }
 },
 "nbformat": 4,
 "nbformat_minor": 5
}
