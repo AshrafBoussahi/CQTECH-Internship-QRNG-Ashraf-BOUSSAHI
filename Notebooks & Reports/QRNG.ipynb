{
 "cells": [
  {
   "cell_type": "markdown",
   "id": "b773ed9f-3640-46ab-9fbb-d3a8e73bce72",
   "metadata": {},
   "source": [
    "# Quantum Number Random Number Generation (QRNG)\n",
    "_by Ashraf Boussahi_ "
   ]
  },
  {
   "cell_type": "markdown",
   "id": "d299a9b6-f588-4d55-b163-7fd5f857e30d",
   "metadata": {},
   "source": [
    "## What's Randomness, and what is a random number?\n",
    "\n",
    "Intentionally, randomness can be described as a set of events that cannot be fully predicted or guessed with certainty and is often referred to as luck. Indeed there is an entire branch of science dedicated to studying, analyzing, and trying to predict these uncertain events, and measuring their likelihood—this is called probability: the science of uncertainty. From a scientific standpoint, luck can be somewhat measured, and there are many techniques to enhance it. So, next time instead of blaming your lack of luck, consider taking a course on probability—I recommend the [MITx course on edX](https://www.edx.org/learn/probability/massachusetts-institute-of-technology-probability-the-science-of-uncertainty-and-data)!\n",
    "\n",
    "A random number, as the term suggests, is a number generated randomly through what is known as a \"Random Number Generator\" or RNG, making it essentially impossible to predict with certainty. This output can be applied in various important fields due to its unique property of unpredictability.\n",
    "\n",
    "## What's an RNG and how does it work?\n",
    "An RNG, or Random Number Generator as a general concept is a mechanism that can generate numbers with the essential property of unpredictability, using various techniques, principles, and algorithms. An RNG can take many forms, such as a dice, a game wheel, a Galton Board, a classical computer, or even a quantum computer.\n",
    "\n",
    "But how can we determine if a number is truly random?\n",
    "\n",
    "To do so, we need to examine its generator and analyze both the quality of the generator and the process it uses to produce the number. There are plenty of algorithms and advanced techniques to assess the quality of a generator and determine the randomness of its outputs that we will cover later on such as the [Statistical tests](https://en.wikipedia.org/wiki/Randomness_test) that check for patterns or biases in the output, and the[NIST (National Institute of Standards and Technology)](https://nvlpubs.nist.gov/nistpubs/legacy/sp/nistspecialpublication800-22r1a.pdf) Test Suite\n",
    "\n",
    "We can identify some features or characteristics that should be present to classify a number as random:\n",
    "\n",
    "- **Unpredictable:** In a sequence of random numbers, the next value cannot be determined based on previous values.\n",
    "- **Unreproducible:** For large-scale random number generation (especially when generating large numbers), it is crucial that this value cannot easily be reproduced at that level.\n",
    "- **Uniformly Distributed:** After a long series of random generations, all possible values should appear with equal likelihood, showing no bias toward any specific value.\n",
    "\n",
    "\n",
    "## Does it really matter if a number is truly randomly generated?\n",
    "\n",
    "\n",
    "Actually, Yes, it’s crucial and the reason lies in the main applications of randomly generated numbers, which are used in critical fields and in almost every area of study that requires experimentation or confidentiality, and any small bias could lead to disaster results and catastrophic results because sometimes even if a number appears random on a small scale,  we can easily detect patterns in large-scale data, which can compromise the randomness and the results they are are based on it.\n",
    "\n",
    "\n",
    "## What are the main uses of Random Numbers?\n",
    "# Security & Cryptography:\n",
    "\n",
    "**//The Explication of this challenge in a simplified way to demonstrate how we can decrypt a message by knowing the seed used for encryption and the enncryption method** [Enigma challenge](https://github.com/Spidey-y/AlphaCTF2k24/tree/main/crypto/enigma)\n",
    "\n",
    "**//The SEED PROBLEM AND ITS RELATION WITH THE Unreproducible**\n",
    "\n",
    "# Medical Researches and sampling:\n",
    "\n",
    "**//Examples**\n",
    "\n",
    "# Experiments\"\n",
    "\n",
    "**//Monte Carlo Experience**\n",
    "\n",
    "\n",
    "## How can we achieve perfect randomness?\n",
    "\n",
    "**// Using the probabilistic features of Quantum systems**\n",
    "\n",
    "**//Different approaches with examples, some code and results analysis**\n",
    "\n",
    "\n",
    "\n",
    "\n",
    "\n"
   ]
  },
  {
   "cell_type": "code",
   "execution_count": null,
   "id": "d90ec380-723c-47e0-85e3-eb7420002ee5",
   "metadata": {},
   "outputs": [],
   "source": []
  },
  {
   "cell_type": "code",
   "execution_count": null,
   "id": "9fec1acc-0a09-4691-9e25-81230f0c87f5",
   "metadata": {},
   "outputs": [],
   "source": []
  }
 ],
 "metadata": {
  "kernelspec": {
   "display_name": "Python 3 (ipykernel)",
   "language": "python",
   "name": "python3"
  },
  "language_info": {
   "codemirror_mode": {
    "name": "ipython",
    "version": 3
   },
   "file_extension": ".py",
   "mimetype": "text/x-python",
   "name": "python",
   "nbconvert_exporter": "python",
   "pygments_lexer": "ipython3",
   "version": "3.11.7"
  }
 },
 "nbformat": 4,
 "nbformat_minor": 5
}
